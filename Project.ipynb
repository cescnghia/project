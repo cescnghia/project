{
 "cells": [
  {
   "cell_type": "markdown",
   "metadata": {},
   "source": [
    "# Following trends on Twitter"
   ]
  },
  {
   "cell_type": "markdown",
   "metadata": {},
   "source": [
    "[1. Abstract](#Abstract)\n",
    "\n",
    "[2. Exploratory data analysis](#Exploratory-data-analysis)\n",
    "\n",
    "[3. Topic Modeling using LDA](#A-very-simple-Topic-Modeling-using-LDA)\n",
    "\n",
    "[4. Example of the pipeline](#Example-of-the-pipeline-that-we-will-follow-for-the-LDA-algorithm)\n",
    "\n",
    "[5. Milestone 3](#Milestone-3:-the-data-story)"
   ]
  },
  {
   "cell_type": "markdown",
   "metadata": {},
   "source": [
    "# Abstract\n"
   ]
  },
  {
   "cell_type": "markdown",
   "metadata": {},
   "source": [
    "We realiazed that it will be hard to achieve the goal stated in milestone 1(detecting fake news). The problem is that we couldn't find a way to define fake news. And also the twitter dataset is not what we expected it to be. For example it doesn't contain the number of times a tweet has been retweeted, the geographical location, number of likes ... So we decided to go in a different, more feasable direction, which is following the process of creating and spreading trends on Twitter. Trying to find patterns between trends and users. "
   ]
  },
  {
   "cell_type": "code",
   "execution_count": 1,
   "metadata": {
    "collapsed": true
   },
   "outputs": [],
   "source": [
    "import numpy as np\n",
    "import json\n",
    "import re\n",
    "import matplotlib.pyplot as plt\n",
    "from pyspark.sql import *\n",
    "from pyspark import SparkContext, SQLContext\n",
    "from pyspark.ml.feature import *\n",
    "from pyspark.mllib.clustering import LDA, LDAModel\n",
    "from pyspark.sql import functions as F\n",
    "import pickle\n",
    "import nltk\n",
    "from nltk import pos_tag\n",
    "from nltk.corpus import wordnet\n",
    "from nltk.stem import WordNetLemmatizer\n",
    "import string\n",
    "%matplotlib inline  "
   ]
  },
  {
   "cell_type": "markdown",
   "metadata": {},
   "source": [
    "#### Read data"
   ]
  },
  {
   "cell_type": "markdown",
   "metadata": {},
   "source": [
    "> Each data entry has 5 fields:\n",
    "     - language: language of the user \n",
    "     - id: id of the user\n",
    "     - date: date when the tweet was published\n",
    "     - username: username of the user\n",
    "     - content: the tweet\n",
    "     \n",
    "Given that for the moment we consider only rows that have all 5 fields we don't have to deal with missing values.\n",
    "     "
   ]
  },
  {
   "cell_type": "code",
   "execution_count": 2,
   "metadata": {
    "collapsed": true
   },
   "outputs": [],
   "source": [
    "sqlContext = SQLContext(sc)\n",
    "data = sc.textFile(\"/datasets/tweets-leon\")"
   ]
  },
  {
   "cell_type": "markdown",
   "metadata": {},
   "source": [
    "# Exploratory data analysis"
   ]
  },
  {
   "cell_type": "markdown",
   "metadata": {},
   "source": [
    "> 1 We will first clean the data and select only a subset that is useful for this project:\n",
    "    - keep only the tweets that have all 5 fields\n",
    "    - remove urls from the content\n",
    "    - remove emojis\n",
    "    - remove punctuation \n",
    "    - remove stopwords\n",
    "    - apply lemmatization \n",
    "    - keep only english, spanish and french tweets\n",
    "    - ..."
   ]
  },
  {
   "cell_type": "code",
   "execution_count": 3,
   "metadata": {},
   "outputs": [
    {
     "data": {
      "text/plain": [
       "u'Sat Jun 15 18:00:01 +0000 2013'"
      ]
     },
     "execution_count": 3,
     "metadata": {},
     "output_type": "execute_result"
    }
   ],
   "source": [
    "frist_tweet = data.first()\n",
    "frist_tweet.split('\\t')[2]"
   ]
  },
  {
   "cell_type": "code",
   "execution_count": 24,
   "metadata": {},
   "outputs": [
    {
     "data": {
      "text/plain": [
       "u'Jun'"
      ]
     },
     "execution_count": 24,
     "metadata": {},
     "output_type": "execute_result"
    }
   ],
   "source": [
    "frist_tweet.split('\\t')[2].split(' ')[1]"
   ]
  },
  {
   "cell_type": "code",
   "execution_count": 44,
   "metadata": {
    "collapsed": true
   },
   "outputs": [],
   "source": [
    "\"\"\"Chose tweets that have exactly 5 components like normal \n",
    "         (language, id, date, username, content)\"\"\"\n",
    "\n",
    "def selection_tweet(tweet):\n",
    "    array = tweet.split(\"\\t\")\n",
    "    if (array[0] == 'en' and array[2][-4:]=='2014'):\n",
    "        if ('RT' not in array[4]):\n",
    "            return True\n",
    "    return False"
   ]
  },
  {
   "cell_type": "code",
   "execution_count": 45,
   "metadata": {
    "collapsed": true
   },
   "outputs": [],
   "source": [
    "\"\"\"Remove punctuation, hashtags and urls\"\"\"\n",
    "\n",
    "table = string.maketrans(\"\",\"\")\n",
    "def punctuation(s):\n",
    "    s = re.sub(r\"@\\S+\", \"\", s)     #mention\n",
    "    s = re.sub(r\"http\\S+\", \"\", s)  #urls\n",
    "    s = re.sub(r\"#\\S+\", \"\", s)     #hashtag\n",
    "    return s.translate(table, string.punctuation)"
   ]
  },
  {
   "cell_type": "code",
   "execution_count": 47,
   "metadata": {
    "collapsed": true
   },
   "outputs": [],
   "source": [
    "\"encode tweet by mapping\"\n",
    "\n",
    "def encode_tweet(tweet):\n",
    "    \"Encode UTF-8\"\n",
    "    encoded = [t.encode(\"utf8\") for t in tweet.split(\"\\t\")]\n",
    "    \"Remove punctuation and urls\"\n",
    "    encoded[4] = punctuation(encoded[4])\n",
    "    \"Lemmatization\"\n",
    "    encoded[4]= lemmatization(encoded[4])\n",
    "    \"Return id and content of tweet\"\n",
    "    return [encoded[1], encoded[4]]"
   ]
  },
  {
   "cell_type": "code",
   "execution_count": 48,
   "metadata": {
    "collapsed": true
   },
   "outputs": [],
   "source": [
    "precessed_data = data.filter(selection_tweet) \\\n",
    "                     .map(encode_tweet)"
   ]
  },
  {
   "cell_type": "code",
   "execution_count": null,
   "metadata": {
    "collapsed": true
   },
   "outputs": [],
   "source": [
    "hum = precessed_data.first()"
   ]
  },
  {
   "cell_type": "markdown",
   "metadata": {},
   "source": [
    "Later on using the filter function as done below we will select only a useful subset of the data"
   ]
  },
  {
   "cell_type": "code",
   "execution_count": null,
   "metadata": {
    "collapsed": true
   },
   "outputs": [],
   "source": [
    "\"\"\"remove urls\"\"\"\n",
    "\n",
    "#TODO"
   ]
  },
  {
   "cell_type": "code",
   "execution_count": null,
   "metadata": {
    "collapsed": true
   },
   "outputs": [],
   "source": [
    "\"\"\"remove emojis\"\"\"\n",
    "\n",
    "#TODO"
   ]
  },
  {
   "cell_type": "code",
   "execution_count": null,
   "metadata": {
    "collapsed": true
   },
   "outputs": [],
   "source": [
    "\"\"\"remove punctuation\"\"\"\n",
    "\n",
    "#TODO"
   ]
  },
  {
   "cell_type": "code",
   "execution_count": 7,
   "metadata": {
    "collapsed": true
   },
   "outputs": [],
   "source": [
    "\"\"\"Lemmatization\"\"\"\n",
    "\n",
    "def get_wordnet_pos(treebank_tag):\n",
    "    \"\"\"Map ['NN', 'NNS', 'NNP', 'NNPS'] to NOUN.....\"\"\"\n",
    "    if treebank_tag.startswith('J'):\n",
    "        return wordnet.ADJ\n",
    "    elif treebank_tag.startswith('V'):\n",
    "        return wordnet.VERB\n",
    "    elif treebank_tag.startswith('N'):\n",
    "        return wordnet.NOUN\n",
    "    elif treebank_tag.startswith('R'):\n",
    "        return wordnet.ADV\n",
    "    else:\n",
    "        return None\n",
    "    \n",
    "def lemmatization(sentence):\n",
    "    lemmatiser = WordNetLemmatizer()\n",
    "    tokens_pos = pos_tag(sentence)\n",
    "    tokens_pos = [(w,get_wordnet_pos(p)) for (w,p) in tokens_pos]\n",
    "    \n",
    "    return [lemmatiser.lemmatize(w, pos=p) for (w,p) in tokens_pos if p != None]"
   ]
  },
  {
   "cell_type": "code",
   "execution_count": 9,
   "metadata": {
    "collapsed": true
   },
   "outputs": [],
   "source": [
    "\"\"\"select a subset of the data\"\"\"\n",
    "\n",
    "data = data.filter(selection_tweet)\n",
    "\n",
    "en_data = data.filter(lambda x : x[:2]=='en')\n",
    "es_data = data.filter(lambda x : x[:2]=='es')\n",
    "fr_data = data.filter(lambda x : x[:2]=='fr')\n",
    "\n",
    "data_2012 = data.filter(lambda tweet : \n",
    "                        encode_tweet(tweet)[2][-4:] == '2012')\n",
    "data_2013 = data.filter(lambda tweet : \n",
    "                        encode_tweet(tweet)[2][-4:] == '2013')\n"
   ]
  },
  {
   "cell_type": "code",
   "execution_count": null,
   "metadata": {
    "collapsed": true
   },
   "outputs": [],
   "source": [
    "some_fr_tweets = fr_data.take(5)\n",
    "some_fr_tweets"
   ]
  },
  {
   "cell_type": "code",
   "execution_count": null,
   "metadata": {
    "collapsed": true
   },
   "outputs": [],
   "source": [
    "some_fr_tweets = [encode_tweet(tweet) for tweet in some_fr_tweets]"
   ]
  },
  {
   "cell_type": "code",
   "execution_count": null,
   "metadata": {
    "collapsed": true
   },
   "outputs": [],
   "source": [
    "print 'Some french tweets:'\n",
    "for ind, t in enumerate(some_fr_tweets):\n",
    "    print ind + 1,')User name:',t[3]\n",
    "    print '         Tweets:', ((t[4]))\n",
    "    print '         at:', t[2]\n",
    "    print "
   ]
  },
  {
   "cell_type": "markdown",
   "metadata": {},
   "source": [
    "# A very simple Topic Modeling using LDA"
   ]
  },
  {
   "cell_type": "markdown",
   "metadata": {},
   "source": [
    "In order to familiarize ourselves with the dataset we started with a very simple approach for topic extraction. For achieving this we will use the Latent Dirichlet allocation algorithm. We first need to build the tf-idf matrix using our data and then then pass it as a parameter to the LDA method. We also need to specify the number of topics to be extracted from the dataset, α(parameter of the Dirichlet prior on the per-document topic distributions) and β(parameter of the Dirichlet prior on the per-topic word distribution). We will determine this values in the next milestone. "
   ]
  },
  {
   "cell_type": "code",
   "execution_count": null,
   "metadata": {
    "collapsed": true
   },
   "outputs": [],
   "source": [
    "\n",
    "\"\"\"Data in english and encode UTF-8\"\"\"\n",
    "en_data = data.filter(selection_tweet).map(encode_tweet)\n",
    "\n",
    "\"\"\"Take only ID and CONTENT of a tweet\"\"\"\n",
    "tweets = en_data.map(lambda tweet : Row(id=tweet[0], sentence=tweet[1]))\n",
    "\n",
    "\"\"\"Create DF\"\"\"\n",
    "df_tweets = sqlContext.createDataFrame(tweets)\n",
    "\n",
    "df_tweets.show(3)"
   ]
  },
  {
   "cell_type": "code",
   "execution_count": 30,
   "metadata": {},
   "outputs": [
    {
     "name": "stdout",
     "output_type": "stream",
     "text": [
      "+------------------+--------------------+--------------------+\n",
      "|                id|            sentence|                 raw|\n",
      "+------------------+--------------------+--------------------+\n",
      "|345963923251539968|RT @silsilfani: t...|[rt, silsilfani, ...|\n",
      "|345963923297673217|RT @WhosThisHoe: ...|[rt, whosthishoe,...|\n",
      "|345963923259924480|Can't stand peopl...|[can, t, stand, p...|\n",
      "+------------------+--------------------+--------------------+\n",
      "only showing top 3 rows\n",
      "\n"
     ]
    }
   ],
   "source": [
    "\"\"\"Tokenization\"\"\"\n",
    "regexTokenizer = RegexTokenizer(inputCol=\"sentence\", outputCol=\"raw\", pattern=\"\\\\W\")\n",
    "regexTokenized = regexTokenizer.transform(df_tweets)\n",
    "\n",
    "regexTokenized.show(3)"
   ]
  },
  {
   "cell_type": "code",
   "execution_count": null,
   "metadata": {
    "collapsed": true
   },
   "outputs": [],
   "source": [
    "with open(\"regexTokenized.pickle\", \"wb\") as f:\n",
    "    pickle.dump(regexTokenized, f)"
   ]
  },
  {
   "cell_type": "code",
   "execution_count": 31,
   "metadata": {},
   "outputs": [
    {
     "name": "stdout",
     "output_type": "stream",
     "text": [
      "+------------------+--------------------+--------------------+--------------------+\n",
      "|                id|            sentence|                 raw|            filtered|\n",
      "+------------------+--------------------+--------------------+--------------------+\n",
      "|345963923251539968|RT @silsilfani: t...|[rt, silsilfani, ...|[rt, silsilfani, ...|\n",
      "|345963923297673217|RT @WhosThisHoe: ...|[rt, whosthishoe,...|[rt, whosthishoe,...|\n",
      "|345963923259924480|Can't stand peopl...|[can, t, stand, p...|[t, stand, people...|\n",
      "+------------------+--------------------+--------------------+--------------------+\n",
      "only showing top 3 rows\n",
      "\n"
     ]
    }
   ],
   "source": [
    "\"\"\"Remove Stop-words\"\"\"\n",
    "remover = StopWordsRemover(inputCol=\"raw\", outputCol=\"filtered\")\n",
    "removed_stopwords = remover.transform(regexTokenized)\n",
    "with open(\"removed_stopwords.pickle\", \"wb\") as f:\n",
    "    pickle.dump(removed_stopwords, f)\n",
    "removed_stopwords.show(3)"
   ]
  },
  {
   "cell_type": "code",
   "execution_count": null,
   "metadata": {
    "collapsed": true
   },
   "outputs": [],
   "source": [
    "\"\"\"apply lemmatization and remove punctuation\"\"\"\n"
   ]
  },
  {
   "cell_type": "markdown",
   "metadata": {},
   "source": [
    " Warning: Computation of TF-IDF and LDA take a lot of time (6h on the cluster, we don't know what's happening, why it takes so long ? Could you take a look at our code to see if maybe there is a problem with it). This is the reason why we have an extra python file (LDA.py) to submit to the cluster for the computation. "
   ]
  },
  {
   "cell_type": "code",
   "execution_count": null,
   "metadata": {
    "collapsed": true
   },
   "outputs": [],
   "source": [
    "\"\"\"TF-IDF\"\"\"\n",
    "\n",
    "cv = CountVectorizer(inputCol=\"filtered\", outputCol=\"vectors\")\n",
    "count_vectorizer_model = cv.fit(removed_stopwords)\n",
    "tf = count_vectorizer_model.transform(removed_stopwords)\n",
    "\n",
    "idf = IDF(inputCol=\"vectors\", outputCol=\"tfidf\")\n",
    "idfModel = idf.fit(tf)\n",
    "tfidf = idfModel.transform(tf)\n",
    "\n",
    "tfidf.show(3)"
   ]
  },
  {
   "cell_type": "code",
   "execution_count": null,
   "metadata": {
    "collapsed": true
   },
   "outputs": [],
   "source": [
    "\"\"\"Topics extraction with LDA\"\"\"\n",
    "\n",
    "nbTopics=100\n",
    "n_terms=15\n",
    "\n",
    "corpus = tfidf.select(F.col('id').cast(\"long\"), 'tfidf').rdd.map(lambda x: [x[0], x[1]])\n",
    "ldaModel = LDA.train(corpus, k=nbTopics)\n",
    "\n",
    "\n",
    "topics = ldaModel.describeTopics(maxTermsPerTopic=n_terms)\n",
    "vocabulary = count_vectorizer_model.vocabulary\n",
    "\n",
    "\"\"\"Store result\"\"\"\n",
    "with open(\"topics.pickle\", \"wb\") as f:\n",
    "    pickle.dump(topics, f)\n",
    "with open(\"vocabulary.pickle\", \"wb\") as f:\n",
    "    pickle.dump(vocabulary, f)   "
   ]
  },
  {
   "cell_type": "code",
   "execution_count": null,
   "metadata": {
    "collapsed": true
   },
   "outputs": [],
   "source": [
    "\"\"\"Load result computed from cluster\"\"\"\n",
    "\n",
    "with open(\"topics.pickle\", \"rb\") as f:\n",
    "    topics = pickle.load(f)\n",
    "    \n",
    "with open(\"vocabulary.pickle\", \"rb\") as f:\n",
    "    vocabulary = pickle.load(f)"
   ]
  },
  {
   "cell_type": "code",
   "execution_count": null,
   "metadata": {
    "collapsed": true
   },
   "outputs": [],
   "source": [
    "for topic in range(len(topics)):\n",
    "    print(\"topic {} : \".format(topic))\n",
    "    words = topics[topic][0]\n",
    "    scores = topics[topic][1]\n",
    "    for word in range(len(words)):\n",
    "        print(vocabulary[words[word]], \"-\", scores[word])"
   ]
  },
  {
   "cell_type": "code",
   "execution_count": null,
   "metadata": {
    "collapsed": true
   },
   "outputs": [],
   "source": [
    "topics = sc.textFile(\"/user/khau/topics.pickle\")\n",
    "vocabulary = sc.textFile(\"/user/khau/vocabulary.pickle\")"
   ]
  },
  {
   "cell_type": "code",
   "execution_count": 5,
   "metadata": {},
   "outputs": [
    {
     "ename": "NameError",
     "evalue": "name 'topics' is not defined",
     "output_type": "error",
     "traceback": [
      "\u001b[0;31m---------------------------------------------------------------------------\u001b[0m",
      "\u001b[0;31mNameError\u001b[0m                                 Traceback (most recent call last)",
      "\u001b[0;32m<ipython-input-5-78ae5e272956>\u001b[0m in \u001b[0;36m<module>\u001b[0;34m()\u001b[0m\n\u001b[1;32m     21\u001b[0m     \u001b[0mplt\u001b[0m\u001b[0;34m.\u001b[0m\u001b[0mshow\u001b[0m\u001b[0;34m(\u001b[0m\u001b[0;34m)\u001b[0m\u001b[0;34m\u001b[0m\u001b[0m\n\u001b[1;32m     22\u001b[0m \u001b[0;34m\u001b[0m\u001b[0m\n\u001b[0;32m---> 23\u001b[0;31m \u001b[0mplot_topics\u001b[0m\u001b[0;34m(\u001b[0m\u001b[0mtopics\u001b[0m\u001b[0;34m,\u001b[0m \u001b[0mvocabulary\u001b[0m\u001b[0;34m,\u001b[0m \u001b[0mnbTopics\u001b[0m\u001b[0;34m=\u001b[0m\u001b[0;36m20\u001b[0m\u001b[0;34m,\u001b[0m \u001b[0mn_terms\u001b[0m\u001b[0;34m=\u001b[0m\u001b[0;36m10\u001b[0m\u001b[0;34m)\u001b[0m\u001b[0;34m\u001b[0m\u001b[0m\n\u001b[0m",
      "\u001b[0;31mNameError\u001b[0m: name 'topics' is not defined"
     ]
    }
   ],
   "source": [
    "def plot_topics(topics, vocabulary, nbTopics, n_terms):\n",
    "    topic_scores = [x[1] for x in topics] #all scores\n",
    "    max_score = np.max(topic_scores)\n",
    "    nbColsPlot = 4\n",
    "    MAGIC_NUMBER = 50\n",
    "    fontsize_init = MAGIC_NUMBER / max_score\n",
    "\n",
    "    for topic in range(len(topics)):\n",
    "        plt.subplot(1, nbColsPlot, topic%4 + 1)\n",
    "        plt.ylim(0, num_top_words + 0.5)\n",
    "        plt.xticks([]) \n",
    "        plt.yticks([])\n",
    "        plt.title('Topic #{}'.format(topic+1))\n",
    "        words = topics[topic][0]\n",
    "        scores = topics[topic][1]\n",
    "        for word in range(len(words)):\n",
    "            font_size = fontsize_init*scores[word]\n",
    "            font_size = min(font_size, MAGIC_NUMBER)\n",
    "            plt.text(0.05, num_top_words-word-0.5, vocabulary[words[word]], fontsize=font_size) \n",
    "    plt.tight_layout()\n",
    "    plt.show()\n",
    "    \n",
    "plot_topics(topics, vocabulary, nbTopics=20, n_terms=10)"
   ]
  },
  {
   "cell_type": "markdown",
   "metadata": {},
   "source": [
    "# Example of the pipeline that we will follow for the LDA algorithm"
   ]
  },
  {
   "cell_type": "code",
   "execution_count": 4,
   "metadata": {
    "collapsed": true
   },
   "outputs": [],
   "source": [
    "# random dataframe \n",
    "sentenceDataFrame = sqlContext.createDataFrame([\n",
    "    (0, \"Hi I heard about Spark\"),\n",
    "    (1, \"I wish Java could use case spark classes\"),\n",
    "    (2, \"Logistic,regression,models,are,neat\"),\n",
    "    (3, \"I want a coffee before going bed to bed \"),\n",
    "    (4, \"Today is a big big day day !!!\")\n",
    "], [\"id\", \"sentence\"])\n",
    "\n",
    "# tokenization\n",
    "regexTokenizer = RegexTokenizer(inputCol=\"sentence\", outputCol=\"words\", pattern=\"\\\\W\")\n",
    "regexTokenized = regexTokenizer.transform(sentenceDataFrame)\n",
    "#with open(\"regexTokenized.pickle\", \"wb\") as f:\n",
    "#    pickle.dump(regexTokenized, f)\n",
    "# remove stop words\n",
    "#regexTokenized.save('aaaa')\n",
    "remover = StopWordsRemover(inputCol=\"words\", outputCol=\"filtered\")\n",
    "removed = remover.transform(regexTokenized)\n",
    "\n",
    "#removed.save('oooo')\n",
    "#with open(\"removed_stopwords.pickle\", \"wb\") as f:\n",
    "#    pickle.dump(removed, f)\n",
    "# create the tf-idf matrix\n",
    "a = removed.drop('words')\n",
    "a = a.drop('sentence')\n",
    "\n",
    "cv = CountVectorizer(inputCol=\"filtered\", outputCol=\"vectors\")\n",
    "count_vectorizer_model = cv.fit(a)\n",
    "tf = count_vectorizer_model.transform(a)\n",
    "vocabulary = count_vectorizer_model.vocabulary  \n",
    "\n",
    "b = tf.drop('filtered')\n",
    "\n",
    "idf = IDF(inputCol=\"vectors\", outputCol=\"tfidf\")\n",
    "idfModel = idf.fit(b)\n",
    "tfidf = idfModel.transform(b)\n",
    "\n",
    "c = tfidf.drop('vectors')\n",
    "\n",
    "#tfidf.save('cccc')\n",
    "#with open(\"tfidf.pickle\", \"wb\") as f:\n",
    "#    pickle.dump(tfidf, f)\n",
    "\n",
    "# initialize parameters\n",
    "nbTopics=3\n",
    "#n_terms=3\n",
    "\n",
    "corpus = tfidf.select(F.col('id').cast(\"long\"), 'tfidf').rdd.map(lambda x: [x[0], x[1]])\n",
    "ldaModel = LDA.train(corpus, k=nbTopics)\n",
    "# extraction vocabulary\n",
    "\n",
    "\n",
    "#ldaModel.save(sc,'dddd')\n",
    "#with open(\"vocabulary.pickle\", \"wb\") as f:\n",
    "#    pickle.dump(ldaModel, f)    \n",
    "# extracting topics\n",
    "#topics = ldaModel.describeTopics(maxTermsPerTopic=n_terms)\n",
    "#with open(\"topics.pickle\", \"wb\") as f:\n",
    "#    pickle.dump(topics, f)\n",
    "\n",
    "        \n",
    "#plot_topics(topics, vocabulary, nbTopics=3, n_terms=2)        "
   ]
  },
  {
   "cell_type": "code",
   "execution_count": 4,
   "metadata": {
    "collapsed": true
   },
   "outputs": [],
   "source": [
    "ldaModel.save(sc, 'somethingelse')"
   ]
  },
  {
   "cell_type": "code",
   "execution_count": 15,
   "metadata": {
    "collapsed": true
   },
   "outputs": [],
   "source": [
    "sameModel = LDAModel.load(sc, 'somethingelse')"
   ]
  },
  {
   "cell_type": "code",
   "execution_count": 17,
   "metadata": {
    "collapsed": true
   },
   "outputs": [],
   "source": [
    "somethings.write.json(\"somethings.txt\")"
   ]
  },
  {
   "cell_type": "code",
   "execution_count": 5,
   "metadata": {},
   "outputs": [
    {
     "name": "stdout",
     "output_type": "stream",
     "text": [
      "+---+--------------------+\n",
      "| id|               tfidf|\n",
      "+---+--------------------+\n",
      "|  0|(19,[3,7,15],[0.6...|\n",
      "|  1|(19,[3,5,12,16,17...|\n",
      "|  2|(19,[4,8,11,13],[...|\n",
      "|  3|(19,[1,6,10,14],[...|\n",
      "|  4|(19,[0,2,9],[2.19...|\n",
      "+---+--------------------+\n",
      "\n"
     ]
    }
   ],
   "source": [
    "c.show()"
   ]
  },
  {
   "cell_type": "code",
   "execution_count": 26,
   "metadata": {},
   "outputs": [
    {
     "data": {
      "text/plain": [
       "262144"
      ]
     },
     "execution_count": 26,
     "metadata": {},
     "output_type": "execute_result"
    }
   ],
   "source": [
    "vocabulary = sc.textFile(\"/user/khau/vocabulary.pickle\")"
   ]
  },
  {
   "cell_type": "code",
   "execution_count": 19,
   "metadata": {},
   "outputs": [
    {
     "name": "stdout",
     "output_type": "stream",
     "text": [
      "+---+--------------------+--------------------+--------------------+--------------------+\n",
      "| id|               words|            filtered|             vectors|               tfidf|\n",
      "+---+--------------------+--------------------+--------------------+--------------------+\n",
      "|  0|[hi, i, heard, ab...|  [hi, heard, spark]|(19,[3,7,15],[1.0...|(19,[3,7,15],[0.6...|\n",
      "|  1|[i, wish, java, c...|[wish, java, use,...|(19,[3,5,12,16,17...|(19,[3,5,12,16,17...|\n",
      "|  2|[logistic, regres...|[logistic, regres...|(19,[4,8,11,13],[...|(19,[4,8,11,13],[...|\n",
      "|  3|[i, want, a, coff...|[want, coffee, go...|(19,[1,6,10,14],[...|(19,[1,6,10,14],[...|\n",
      "|  4|[today, is, a, bi...|[today, big, big,...|(19,[0,2,9],[2.0,...|(19,[0,2,9],[2.19...|\n",
      "+---+--------------------+--------------------+--------------------+--------------------+\n",
      "\n"
     ]
    }
   ],
   "source": [
    "tfidf.drop('sentence').show()"
   ]
  },
  {
   "cell_type": "code",
   "execution_count": 16,
   "metadata": {},
   "outputs": [
    {
     "name": "stdout",
     "output_type": "stream",
     "text": [
      "+---+--------------------+--------------------+--------------------+--------------------+\n",
      "| id|               words|            filtered|             vectors|               tfidf|\n",
      "+---+--------------------+--------------------+--------------------+--------------------+\n",
      "|  0|[hi, i, heard, ab...|  [hi, heard, spark]|(19,[3,7,15],[1.0...|(19,[3,7,15],[0.6...|\n",
      "|  1|[i, wish, java, c...|[wish, java, use,...|(19,[3,5,12,16,17...|(19,[3,5,12,16,17...|\n",
      "|  2|[logistic, regres...|[logistic, regres...|(19,[4,8,11,13],[...|(19,[4,8,11,13],[...|\n",
      "|  3|[i, want, a, coff...|[want, coffee, go...|(19,[1,6,10,14],[...|(19,[1,6,10,14],[...|\n",
      "|  4|[today, is, a, bi...|[today, big, big,...|(19,[0,2,9],[2.0,...|(19,[0,2,9],[2.19...|\n",
      "+---+--------------------+--------------------+--------------------+--------------------+\n",
      "\n"
     ]
    }
   ],
   "source": [
    "tfidf.drop('sentence').show()\n"
   ]
  },
  {
   "cell_type": "code",
   "execution_count": 39,
   "metadata": {
    "collapsed": true
   },
   "outputs": [],
   "source": [
    "term_counts = sqlContext.createDataFrame(a.map(lambda wc: Row(term=wc[0], count=wc[1])))"
   ]
  },
  {
   "cell_type": "code",
   "execution_count": 40,
   "metadata": {},
   "outputs": [
    {
     "name": "stdout",
     "output_type": "stream",
     "text": [
      "+-----+----------+\n",
      "|count|      term|\n",
      "+-----+----------+\n",
      "|    2|       big|\n",
      "|    2|     spark|\n",
      "|    2|       day|\n",
      "|    2|       bed|\n",
      "|    1|      case|\n",
      "|    1|    models|\n",
      "|    1|     heard|\n",
      "|    1|      wish|\n",
      "|    1|    coffee|\n",
      "|    1|       use|\n",
      "|    1|   classes|\n",
      "|    1|     going|\n",
      "|    1|        hi|\n",
      "|    1|      neat|\n",
      "|    1|      java|\n",
      "|    1|regression|\n",
      "|    1|     today|\n",
      "|    1|  logistic|\n",
      "|    1|      want|\n",
      "+-----+----------+\n",
      "\n"
     ]
    }
   ],
   "source": [
    "term_counts.show()"
   ]
  },
  {
   "cell_type": "code",
   "execution_count": 23,
   "metadata": {
    "collapsed": true
   },
   "outputs": [
    {
     "name": "stdout",
     "output_type": "stream",
     "text": [
      "+---+--------------------+--------------------+--------------------+--------------------+--------------------+\n",
      "| id|            sentence|               words|            filtered|             vectors|               tfidf|\n",
      "+---+--------------------+--------------------+--------------------+--------------------+--------------------+\n",
      "|  0|Hi I heard about ...|[hi, i, heard, ab...|  [hi, heard, spark]|(19,[4,14,15],[1....|(19,[4,14,15],[1....|\n",
      "|  1|I wish Java could...|[i, wish, java, c...|[wish, java, use,...|(19,[2,10,16,17,1...|(19,[2,10,16,17,1...|\n",
      "|  2|Logistic,regressi...|[logistic, regres...|[logistic, regres...|(19,[1,5,9,11],[1...|(19,[1,5,9,11],[1...|\n",
      "+---+--------------------+--------------------+--------------------+--------------------+--------------------+\n",
      "only showing top 3 rows\n",
      "\n"
     ]
    }
   ],
   "source": [
    "#sqlContext.createDataFrame('/user/khau/regexTokenized')\n",
    "a = sqlContext.read.load('/user/khau/cccc')\n",
    "a.show(3)"
   ]
  },
  {
   "cell_type": "markdown",
   "metadata": {
    "collapsed": true
   },
   "source": [
    "# Milestone 3: the data story"
   ]
  },
  {
   "cell_type": "code",
   "execution_count": null,
   "metadata": {
    "collapsed": true
   },
   "outputs": [],
   "source": [
    "\"\"\"Play around with the parameters of the LDA algorithm in order to find the optimal values for α and β. \"\"\"\n",
    "\n",
    "#TODO"
   ]
  },
  {
   "cell_type": "code",
   "execution_count": null,
   "metadata": {
    "collapsed": true
   },
   "outputs": [],
   "source": [
    "\"\"\"repeat the same technique for spanish and french\"\"\"\n",
    "\n",
    "#TODO"
   ]
  },
  {
   "cell_type": "code",
   "execution_count": null,
   "metadata": {
    "collapsed": true
   },
   "outputs": [],
   "source": [
    "\"\"\"algorithm for detecting the top trends\"\"\"\n",
    "\n",
    "#TODO"
   ]
  },
  {
   "cell_type": "code",
   "execution_count": null,
   "metadata": {
    "collapsed": true
   },
   "outputs": [],
   "source": [
    "\"\"\"trying to find patterns between trends\"\"\"\n",
    "\n",
    "#TODO"
   ]
  },
  {
   "cell_type": "code",
   "execution_count": null,
   "metadata": {
    "collapsed": true
   },
   "outputs": [],
   "source": [
    "\"\"\"analyse the data per user \n",
    "    ex. which topics he tweets most about ? \n",
    "        does it change over time ? \"\"\"\n",
    "\n",
    "#TODO"
   ]
  },
  {
   "cell_type": "code",
   "execution_count": null,
   "metadata": {
    "collapsed": true
   },
   "outputs": [],
   "source": [
    "\"\"\"find top users that were the most mentioned by somebody else\"\"\"\n",
    "\n",
    "#TODO"
   ]
  },
  {
   "cell_type": "code",
   "execution_count": null,
   "metadata": {
    "collapsed": true
   },
   "outputs": [],
   "source": [
    "\"\"\"visualization of the result(per language, per month ...)\"\"\"\n",
    "\n",
    "#TODO"
   ]
  },
  {
   "cell_type": "code",
   "execution_count": null,
   "metadata": {
    "collapsed": true
   },
   "outputs": [],
   "source": []
  },
  {
   "cell_type": "code",
   "execution_count": null,
   "metadata": {
    "collapsed": true
   },
   "outputs": [],
   "source": []
  },
  {
   "cell_type": "markdown",
   "metadata": {
    "collapsed": true
   },
   "source": [
    "# Lam lai tu dau\n"
   ]
  },
  {
   "cell_type": "code",
   "execution_count": 2,
   "metadata": {
    "collapsed": true
   },
   "outputs": [],
   "source": [
    "\"Load data\"\n",
    "\n",
    "data = sc.textFile(\"/datasets/tweets-leon\")"
   ]
  },
  {
   "cell_type": "code",
   "execution_count": 3,
   "metadata": {
    "collapsed": true
   },
   "outputs": [],
   "source": [
    "\"\"\"Select tweet by filtering\"\"\"\n",
    "def selection_tweet(tweet):\n",
    "    array = tweet.split(\"\\t\")\n",
    "    if (len(array)==5):\n",
    "        if (array[0] == 'en' and array[2][-4:]=='2014'):\n",
    "            return True\n",
    "    return False\n",
    "\n",
    "data_2014 = data.filter(selection_tweet)"
   ]
  },
  {
   "cell_type": "code",
   "execution_count": null,
   "metadata": {
    "collapsed": true
   },
   "outputs": [],
   "source": []
  },
  {
   "cell_type": "markdown",
   "metadata": {
    "collapsed": true
   },
   "source": [
    "# 1) Some statistics about data (2014)"
   ]
  },
  {
   "cell_type": "code",
   "execution_count": null,
   "metadata": {
    "collapsed": true
   },
   "outputs": [],
   "source": [
    "\"spark-submit for the computation (stats.py)\"\n",
    "tweet_count = data_2014.map(lambda tweet: (tweet.split('\\t')[2].split(' ')[1], 1)) \\\n",
    "                       .reduceByKey(lambda a, b: a + b) \\\n",
    "                       .sortBy(lambda wc: -wc[1])\n",
    "\n",
    "counts = sqlContext.createDataFrame(tweet_count.map(lambda wc: Row(month=wc[0], count=wc[1])))\n",
    "\n",
    "counts.show()\n",
    "\n",
    "# save to json\n",
    "counts.write.json(\"tweets_count.txt\")"
   ]
  },
  {
   "cell_type": "code",
   "execution_count": 51,
   "metadata": {},
   "outputs": [
    {
     "data": {
      "text/plain": [
       "[u'{\"count\":360042745,\"month\":\"Jan\"}',\n",
       " u'{\"count\":292583603,\"month\":\"Dec\"}',\n",
       " u'{\"count\":274942295,\"month\":\"Mar\"}',\n",
       " u'{\"count\":247174867,\"month\":\"Feb\"}',\n",
       " u'{\"count\":212186528,\"month\":\"Jun\"}',\n",
       " u'{\"count\":158177560,\"month\":\"Apr\"}',\n",
       " u'{\"count\":88703791,\"month\":\"May\"}',\n",
       " u'{\"count\":43743119,\"month\":\"Aug\"}',\n",
       " u'{\"count\":41006717,\"month\":\"Nov\"}',\n",
       " u'{\"count\":40601380,\"month\":\"Oct\"}',\n",
       " u'{\"count\":40263598,\"month\":\"Sep\"}',\n",
       " u'{\"count\":18825682,\"month\":\"Jul\"}']"
      ]
     },
     "execution_count": 51,
     "metadata": {},
     "output_type": "execute_result"
    }
   ],
   "source": [
    "tweets_count = sc.textFile('/user/khau/tweets_count.txt')\n",
    "tweets_count = tweets_count.collect()\n",
    "tweets_count"
   ]
  },
  {
   "cell_type": "code",
   "execution_count": 50,
   "metadata": {},
   "outputs": [
    {
     "data": {
      "image/png": "[encoded data removed]",
      "text/plain": [
       "<matplotlib.figure.Figure at 0x1a1bbb2d10>"
      ]
     },
     "metadata": {},
     "output_type": "display_data"
    }
   ],
   "source": [
    "months = ['Jan', 'Feb','Mar', 'Apr', 'May', 'Jun', 'Jul', 'Aug', 'Sep', 'Oct', 'Nov', 'Dec']\n",
    "counts = [360042745, 247174867, 274942295, 158177560,  88703791, 212186528,\n",
    "          18825682, 43743119, 40263598, 40601380,  41006717, 292583603]\n",
    "indexes = np.arange(12) + 1\n",
    "SMALL_SIZE = 20\n",
    "plt.rc('font', size=SMALL_SIZE)\n",
    "plt.figure(figsize=(20,10))\n",
    "plt.bar(indexes, counts)\n",
    "plt.xticks(indexes, months)\n",
    "plt.title('Number of english tweets in 2014 (on this dataset) is '+ str(np.sum(counts)))\n",
    "plt.show()"
   ]
  },
  {
   "cell_type": "markdown",
   "metadata": {
    "collapsed": true
   },
   "source": [
    "# 2) Syntactical analysis"
   ]
  },
  {
   "cell_type": "markdown",
   "metadata": {
    "collapsed": true
   },
   "source": [
    "## A) Hashtag clustering"
   ]
  },
  {
   "cell_type": "code",
   "execution_count": 20,
   "metadata": {
    "collapsed": true
   },
   "outputs": [],
   "source": [
    "def extract_hash_tags(tweet):\n",
    "    encoded = [t.encode(\"utf-8\") for t in tweet.split(\"\\t\")]\n",
    "    return [(part[1:], 1) for part in encoded[4].split() if part.startswith('#')]"
   ]
  },
  {
   "cell_type": "code",
   "execution_count": null,
   "metadata": {
    "collapsed": true
   },
   "outputs": [],
   "source": [
    "\"spark-submit for the computation (HTcount.py)\"\n",
    "\n",
    "hashtags = data_2014.map(extract_hash_tags)\n",
    "\n",
    "hashtag_counts = hashtags.flatMap(extract_hash_tags) \\\n",
    "                         .reduceByKey(lambda a,b : a + b)\\\n",
    "                         .sortBy(lambda wc: -wc[1])\n",
    "        \n",
    "hashtag_counts = sqlContext.createDataFrame(hashtags.map(lambda wc: Row(hashtag=wc[0], count=wc[1])))\n",
    "\n",
    "hashtag_counts.show()\n",
    "\n",
    "# save to json\n",
    "hashtag_counts.write.json(\"hashtag_counts.txt\")"
   ]
  },
  {
   "cell_type": "code",
   "execution_count": 4,
   "metadata": {},
   "outputs": [
    {
     "data": {
      "text/plain": [
       "[u'{\"count\":4461004,\"hashtag\":\"gameinsight\"}',\n",
       " u'{\"count\":2352313,\"hashtag\":\"KCA\"}',\n",
       " u'{\"count\":1987323,\"hashtag\":\"openfollow\"}',\n",
       " u'{\"count\":1881818,\"hashtag\":\"androidgames,\"}',\n",
       " u'{\"count\":1823624,\"hashtag\":\"MTVStars\"}']"
      ]
     },
     "execution_count": 4,
     "metadata": {},
     "output_type": "execute_result"
    }
   ],
   "source": [
    "hashtag_counts = sc.textFile('/user/khau/hashtag_counts.txt')\n",
    "hashtag_counts.take(5)"
   ]
  },
  {
   "cell_type": "code",
   "execution_count": 5,
   "metadata": {
    "collapsed": true
   },
   "outputs": [],
   "source": [
    "top_hashtags = hashtag_counts.map(json.loads)\n",
    "nbHashTags   = top_hashtags.map(lambda x : x['count']) \\\n",
    "                           .sum()"
   ]
  },
  {
   "cell_type": "code",
   "execution_count": 6,
   "metadata": {
    "collapsed": true
   },
   "outputs": [],
   "source": [
    "hashtags_frequency = top_hashtags.take(1000)\n",
    "hashtags_frequency = [(ht['count']/float(nbHashTags) , ht['hashtag'].encode('utf-8')) for ht in hashtags_frequency]"
   ]
  },
  {
   "cell_type": "code",
   "execution_count": 19,
   "metadata": {},
   "outputs": [
    {
     "data": {
      "image/png": "[encoded data removed]",
      "text/plain": [
       "<matplotlib.figure.Figure at 0x1a164d8710>"
      ]
     },
     "metadata": {},
     "output_type": "display_data"
    }
   ],
   "source": [
    "nbTake = 10\n",
    "indexes = np.arange(nbTake) + 1\n",
    "plt.rc('font', size=15)\n",
    "plt.figure(figsize=(25,10))\n",
    "x = [ elem[0] for elem in hashtags_frequency[:nbTake]]\n",
    "y = [ elem[1] for elem in hashtags_frequency[:nbTake]]\n",
    "plt.bar(indexes, x)\n",
    "plt.xticks(indexes, y)\n",
    "plt.title('Top frequency hashtags in 2014')\n",
    "plt.show()"
   ]
  },
  {
   "cell_type": "markdown",
   "metadata": {
    "collapsed": true
   },
   "source": [
    "## B) Top terms frequencies"
   ]
  },
  {
   "cell_type": "code",
   "execution_count": 28,
   "metadata": {
    "collapsed": true
   },
   "outputs": [],
   "source": [
    "\"\"\"Remove punctuation, hashtags and urls\"\"\"\n",
    "\n",
    "table = string.maketrans(\"\",\"\")\n",
    "def punctuation(s):\n",
    "    s = re.sub(r\"@\\S+\", \"\", s)     #mention\n",
    "    s = re.sub(r\"http\\S+\", \"\", s)  #urls\n",
    "    s = re.sub(r\"#\\S+\", \"\", s)     #hashtag\n",
    "    return s.translate(table, string.punctuation)\n",
    "\n",
    "\n",
    "\"Encode tweet by mapping\"\n",
    "\n",
    "def encode_tweet(tweet):\n",
    "    \"Encode UTF-8\"\n",
    "    encoded = [t.encode(\"utf8\") for t in tweet.split(\"\\t\")]\n",
    "    \"Remove punctuation, hashtags and urls\"\n",
    "    encoded[4] = punctuation(encoded[4])\n",
    "    \"Return id and content of tweet\"\n",
    "    return encoded[4]\n"
   ]
  },
  {
   "cell_type": "code",
   "execution_count": null,
   "metadata": {
    "collapsed": true
   },
   "outputs": [],
   "source": [
    "\"spark-submit for the computation (stopwords.py)\"\n",
    "\n",
    "terms = data_2014.map(encode_tweet) \\\n",
    "                 .map(lambda tweet : Row(sentence=tweet))\n",
    "df_terms = sqlContext.createDataFrame(terms)\n",
    "\n",
    "\"\"\"Remove Stop-words\"\"\"\n",
    "remover = StopWordsRemover(inputCol=\"sentence\", outputCol=\"filtered\")\n",
    "removed_stopwords = remover.transform(df_terms)\n"
   ]
  },
  {
   "cell_type": "code",
   "execution_count": 2,
   "metadata": {
    "collapsed": true
   },
   "outputs": [],
   "source": [
    "\"spark-submit for the computation (count.py)\"\n",
    "\n",
    "removed_stopwords = sqlContext.read.load('removed_stopwords')\n",
    "\n",
    "filtered_column = removed_stopwords.map(lambda x : x['filtered'])\n",
    "\n",
    "count_rrd = filtered_column.flatMap(lambda x : x) \\\n",
    "                           .map(lambda x : (x, 1)) \\\n",
    "                           .reduceByKey(lambda a, b: a + b) \\\n",
    "                           .sortBy(lambda wc: -wc[1])\n",
    "\n",
    "term_counts = sqlContext.createDataFrame(count_rrd.map(lambda wc: Row(term=wc[0], count=wc[1])))\n",
    "\n",
    "# save to json\n",
    "term_counts.write.json(\"term_counts.txt\")"
   ]
  },
  {
   "cell_type": "code",
   "execution_count": 27,
   "metadata": {
    "collapsed": true
   },
   "outputs": [],
   "source": [
    "term_counts = sc.textFile('/user/khau/term_counts.txt')"
   ]
  },
  {
   "cell_type": "code",
   "execution_count": 46,
   "metadata": {},
   "outputs": [
    {
     "data": {
      "text/plain": [
       "[u'{\"count\":2902247457,\"term\":\"\"}',\n",
       " u'{\"count\":612151851,\"term\":\"RT\"}',\n",
       " u'{\"count\":80808962,\"term\":\"Im\"}',\n",
       " u'{\"count\":74784471,\"term\":\"like\"}',\n",
       " u'{\"count\":71374469,\"term\":\"just\"}',\n",
       " u'{\"count\":54681848,\"term\":\"dont\"}',\n",
       " u'{\"count\":51253331,\"term\":\"amp\"}',\n",
       " u'{\"count\":50624335,\"term\":\"love\"}',\n",
       " u'{\"count\":46807769,\"term\":\"\\xe2\\x80\\x9c\"}',\n",
       " u'{\"count\":40131898,\"term\":\"know\"}']"
      ]
     },
     "execution_count": 46,
     "metadata": {},
     "output_type": "execute_result"
    }
   ],
   "source": [
    "\"\"\"Stop words of spark StopWordsRemover is not good !!!\"\"\"\n",
    "term_counts.take(10)"
   ]
  },
  {
   "cell_type": "code",
   "execution_count": 103,
   "metadata": {
    "collapsed": true
   },
   "outputs": [],
   "source": [
    "twitter_stopwords = open('data/twitter-stopwords.txt', 'r').read().split(',')\n",
    "stopwords = open('data/stopwords.txt','r').read().split('\\n')\n",
    "stopwords += twitter_stopwords\n",
    "def twitter_stop_words(x):\n",
    "    if x['term'].encode('utf-8').lower() in stopwords:\n",
    "        return False\n",
    "    return True"
   ]
  },
  {
   "cell_type": "code",
   "execution_count": 133,
   "metadata": {
    "collapsed": true
   },
   "outputs": [],
   "source": [
    "top_terms = term_counts.map(json.loads)\n",
    "filtered_terms = top_terms.filter(twitter_stop_words)\n",
    "top_filtered_terms = filtered_terms.take(15)\n"
   ]
  },
  {
   "cell_type": "code",
   "execution_count": 134,
   "metadata": {},
   "outputs": [
    {
     "data": {
      "text/plain": [
       "[(51253331, 'amp'),\n",
       " (46807769, '\\xc3\\xa2\\xc2\\x80\\xc2\\x9c'),\n",
       " (40131898, 'know'),\n",
       " (33739884, 'u'),\n",
       " (30057618, 'new'),\n",
       " (25474031, 'need'),\n",
       " (25173291, 'really'),\n",
       " (22763853, '2'),\n",
       " (20650215, 'going'),\n",
       " (19022144, 'best'),\n",
       " (17343020, 'say'),\n",
       " (15772060, 'way'),\n",
       " (15575424, 'n'),\n",
       " (15199068, '3'),\n",
       " (14885292, 'better')]"
      ]
     },
     "execution_count": 134,
     "metadata": {},
     "output_type": "execute_result"
    }
   ],
   "source": [
    "top_filtered_terms = [(x['count'], x['term'].encode('utf-8')) for x in top_filtered_terms]\n",
    "top_filtered_terms"
   ]
  },
  {
   "cell_type": "code",
   "execution_count": 136,
   "metadata": {},
   "outputs": [
    {
     "data": {
      "image/png": "[encoded data removed]",
      "text/plain": [
       "<matplotlib.figure.Figure at 0x11c0a5350>"
      ]
     },
     "metadata": {},
     "output_type": "display_data"
    }
   ],
   "source": [
    "index_meaningful = [0, 2,3,4,5,6,8,9,10,11,14]\n",
    "top_filtered_terms = np.array(top_filtered_terms)[index_meaningful]\n",
    "indexes = np.arange(11) + 1\n",
    "plt.rc('font', size=15)\n",
    "plt.figure(figsize=(25,10))\n",
    "x = [elem[0] for elem in top_filtered_terms]\n",
    "y = [elem[1] for elem in top_filtered_terms]\n",
    "plt.bar(indexes, x)\n",
    "plt.xticks(indexes, y)\n",
    "plt.title('Top frequency terms in 2014')\n",
    "plt.show()"
   ]
  },
  {
   "cell_type": "markdown",
   "metadata": {
    "collapsed": true
   },
   "source": [
    "## C) Co-occurrence"
   ]
  },
  {
   "cell_type": "code",
   "execution_count": null,
   "metadata": {
    "collapsed": true
   },
   "outputs": [],
   "source": []
  },
  {
   "cell_type": "markdown",
   "metadata": {
    "collapsed": true
   },
   "source": [
    "# 3) Semantic Analysis"
   ]
  },
  {
   "cell_type": "code",
   "execution_count": null,
   "metadata": {
    "collapsed": true
   },
   "outputs": [],
   "source": [
    "\"Code submit to cluster for the computation\"\n",
    "\n",
    "\"Load removed stopwords\"\n",
    "removed_stopwords = sqlContext.read.load('removed_stopwords')\n",
    "truncate_df = removed_stopwords.drop('sentence')\n",
    "\n",
    "\"\"\"TF\"\"\"\n",
    "cv = CountVectorizer(inputCol=\"filtered\", outputCol=\"vectors\", minDF=.2)\n",
    "count_vectorizer_model = cv.fit(truncate_df)\n",
    "tf = count_vectorizer_model.transform(truncate_df)\n",
    "\n",
    "vocabulary = count_vectorizer_model.vocabulary\n",
    "with open(\"vocabulary.pickle\", \"wb\") as f:\n",
    "    pickle.dump(vocabulary, f)\n",
    "\n",
    "truncate_df = tf.drop('filtered')\n",
    "truncate_df.save('tf', mode='overwrite')"
   ]
  },
  {
   "cell_type": "code",
   "execution_count": null,
   "metadata": {
    "collapsed": true
   },
   "outputs": [],
   "source": [
    "tf = sqlContext.read.load('tf')\n",
    "tf.show(3)"
   ]
  },
  {
   "cell_type": "code",
   "execution_count": null,
   "metadata": {
    "collapsed": true
   },
   "outputs": [],
   "source": []
  },
  {
   "cell_type": "code",
   "execution_count": null,
   "metadata": {
    "collapsed": true
   },
   "outputs": [],
   "source": []
  }
 ],
 "metadata": {
  "kernelspec": {
   "display_name": "Python 2",
   "language": "python",
   "name": "python2"
  },
  "language_info": {
   "codemirror_mode": {
    "name": "ipython",
    "version": 2
   },
   "file_extension": ".py",
   "mimetype": "text/x-python",
   "name": "python",
   "nbconvert_exporter": "python",
   "pygments_lexer": "ipython2",
   "version": "2.7.14"
  }
 },
 "nbformat": 4,
 "nbformat_minor": 2
}
